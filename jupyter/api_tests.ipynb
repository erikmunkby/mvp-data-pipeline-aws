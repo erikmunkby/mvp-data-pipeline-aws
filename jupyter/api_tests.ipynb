{
 "cells": [
  {
   "cell_type": "code",
   "execution_count": null,
   "metadata": {},
   "outputs": [],
   "source": [
    "import json\n",
    "import boto3\n",
    "import requests\n",
    "import pandas as pd\n",
    "from base64 import b64encode, b64decode"
   ]
  },
  {
   "cell_type": "markdown",
   "metadata": {},
   "source": [
    "#### Post request to API"
   ]
  },
  {
   "cell_type": "code",
   "execution_count": null,
   "metadata": {},
   "outputs": [],
   "source": [
    "with open('api_creds.json') as f:\n",
    "    api_creds = json.loads(f.read())"
   ]
  },
  {
   "cell_type": "code",
   "execution_count": null,
   "metadata": {},
   "outputs": [],
   "source": [
    "example_data_package = {'event': 'hej', 'category': 'test', 'example_var': 123}\n",
    "b64_str = b64encode(json.dumps(example_data_package).encode()).decode()\n",
    "print(b64_str)"
   ]
  },
  {
   "cell_type": "code",
   "execution_count": null,
   "metadata": {},
   "outputs": [],
   "source": [
    "endpoint = api_creds['endpoint']\n",
    "headers = {'x-api-key': api_creds['api-key']}\n",
    "print(headers)\n",
    "# Add the resources (send_data) and query param data=\n",
    "url = endpoint + f'send_data?data={b64_str}'\n",
    "print(url)\n",
    "response = requests.get(url=url, headers=headers)\n",
    "if response.status_code == 200:\n",
    "    print('success!')"
   ]
  },
  {
   "cell_type": "code",
   "execution_count": null,
   "metadata": {},
   "outputs": [],
   "source": [
    "response.json()"
   ]
  },
  {
   "cell_type": "code",
   "execution_count": null,
   "metadata": {},
   "outputs": [],
   "source": []
  }
 ],
 "metadata": {
  "language_info": {
   "name": "python",
   "pygments_lexer": "ipython3"
  }
 },
 "nbformat": 4,
 "nbformat_minor": 4
}
